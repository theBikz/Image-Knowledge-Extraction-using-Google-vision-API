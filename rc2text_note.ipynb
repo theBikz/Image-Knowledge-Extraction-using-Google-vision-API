{
 "cells": [
  {
   "cell_type": "code",
   "execution_count": 27,
   "metadata": {},
   "outputs": [],
   "source": [
    "import os, io\n",
    "from google.cloud import vision\n",
    "from google.cloud.vision import types\n",
    "import pandas as pd\n",
    "import datetime\n",
    "import nltk\n",
    "import nltk.corpus\n",
    "from nltk.tokenize import word_tokenize\n",
    "from nltk import ne_chunk\n",
    "from openpyxl import Workbook\n",
    "import openpyxl"
   ]
  },
  {
   "cell_type": "code",
   "execution_count": 28,
   "metadata": {},
   "outputs": [],
   "source": [
    "os.environ['GOOGLE_APPLICATION_CREDENTIALS'] =  r'RCtoText.json'\n",
    "client = vision.ImageAnnotatorClient()\n",
    "FILE_NAME = 'txt_mudit_b8_1_545.jpg'\n",
    "FOLDER_PATH = r'C:\\Users\\BIPIN\\Documents\\Python Venv\\RC2Text\\RC'"
   ]
  },
  {
   "cell_type": "code",
   "execution_count": 4,
   "metadata": {},
   "outputs": [],
   "source": [
    "with io.open(os.path.join(FOLDER_PATH,FILE_NAME), 'rb') as image_file:\n",
    "    content = image_file.read()"
   ]
  },
  {
   "cell_type": "code",
   "execution_count": 5,
   "metadata": {},
   "outputs": [],
   "source": [
    "image =  vision.types.Image(content=content)\n",
    "response = client.text_detection(image=image)\n",
    "texts = response.text_annotations\n",
    "df = pd.DataFrame(columns=['locale','description'])"
   ]
  },
  {
   "cell_type": "code",
   "execution_count": 6,
   "metadata": {},
   "outputs": [],
   "source": [
    "for text in texts:\n",
    "    df = df.append(dict(locale=text.locale,description=text.description),ignore_index=True)"
   ]
  },
  {
   "cell_type": "code",
   "execution_count": 7,
   "metadata": {},
   "outputs": [],
   "source": [
    "details_list = df['description'].values.tolist()"
   ]
  },
  {
   "cell_type": "code",
   "execution_count": 8,
   "metadata": {},
   "outputs": [],
   "source": [
    "rem_list = []"
   ]
  },
  {
   "cell_type": "code",
   "execution_count": 9,
   "metadata": {},
   "outputs": [],
   "source": [
    "rem_list = ['REGN. NO','REG. DT','CH. NO','E NO','O SNO','MFG CD','COLOUR','CLASS','MUL','L.M.V.','NAME','SWID OF',\n",
    "                'S/W/D OF','ADDRESS','HP/LEASE','MODEL','BODY','WHEEL BASE','MFG.DT.','FUEL','REG.UPTO','TAX UPTO',\n",
    "               'Registering Authority','Registering','Authority','SALOON','NO. OF CYL','UNLADEN WT','SEATING C','SEATING',\n",
    "               'STANDING','STANDING C','CU.CAP','Signature','GOVERNMENT','OF','HARYANA','CERTIFICATE','REGISTRATION','RULE',\n",
    "           'NO.','Registration','No.','Name','Address','Regd','Owner','Previous','Chasis','Engine','Manufacture','Capacity',\n",
    "           'Seating','including','(including',':']"
   ]
  },
  {
   "cell_type": "code",
   "execution_count": 10,
   "metadata": {},
   "outputs": [
    {
     "name": "stdout",
     "output_type": "stream",
     "text": [
      "['GOVERNMENT OF HARYANA\\nCERTIFICATE OF REGISTRATION\\n(FORM NO. 23 RULE 48)\\nHR42-A-4854\\nRegistration No.\\nName &Address\\nASHWAN\\nof Regd Owner\\nS/o RAM BHAJ\\nBHIGAN,TEH.GNR\\nSONIPAT\\nPrevious Regn. No. N/A\\nPrevious Owner\\nN/A\\nChasis No.\\nMA3EED81S00628175\\nEngine No.\\nF10DN4452456\\nMonth/ Year of Manufacture\\n23/01/2008\\nSeating Capacity\\n(including driver)\\nFuel Used\\nPetrol\\n14.09.2011 15:12\\n', 'GOVERNMENT', 'OF', 'HARYANA', 'CERTIFICATE', 'OF', 'REGISTRATION', '(FORM', 'NO.', '23', 'RULE', '48)', 'HR42-A-4854', 'Registration', 'No.', 'Name', '&Address', 'ASHWAN', 'of', 'Regd', 'Owner', 'S/o', 'RAM', 'BHAJ', 'BHIGAN,TEH.GNR', 'SONIPAT', 'Previous', 'Regn.', 'No.', 'N/A', 'Previous', 'Owner', 'N/A', 'Chasis', 'No.', 'MA3EED81S00628175', 'Engine', 'No.', 'F10DN4452456', 'Month/', 'Year', 'of', 'Manufacture', '23/01/2008', 'Seating', 'Capacity', '(including', 'driver)', 'Fuel', 'Used', 'Petrol', '14.09.2011', '15:12']\n"
     ]
    }
   ],
   "source": [
    "dt = details_list\n",
    "print(dt)"
   ]
  },
  {
   "cell_type": "code",
   "execution_count": 11,
   "metadata": {},
   "outputs": [
    {
     "data": {
      "text/plain": [
       "'GOVERNMENT OF HARYANA\\nCERTIFICATE OF REGISTRATION\\n(FORM NO. 23 RULE 48)\\nHR42-A-4854\\nRegistration No.\\nName &Address\\nASHWAN\\nof Regd Owner\\nS/o RAM BHAJ\\nBHIGAN,TEH.GNR\\nSONIPAT\\nPrevious Regn. No. N/A\\nPrevious Owner\\nN/A\\nChasis No.\\nMA3EED81S00628175\\nEngine No.\\nF10DN4452456\\nMonth/ Year of Manufacture\\n23/01/2008\\nSeating Capacity\\n(including driver)\\nFuel Used\\nPetrol\\n14.09.2011 15:12\\n'"
      ]
     },
     "execution_count": 11,
     "metadata": {},
     "output_type": "execute_result"
    }
   ],
   "source": [
    "extract_name = dt[0]\n",
    "extract_name"
   ]
  },
  {
   "cell_type": "code",
   "execution_count": 12,
   "metadata": {},
   "outputs": [
    {
     "data": {
      "text/plain": [
       "['GOVERNMENT',\n",
       " 'OF',\n",
       " 'HARYANA',\n",
       " 'CERTIFICATE',\n",
       " 'OF',\n",
       " 'REGISTRATION',\n",
       " '(FORM',\n",
       " 'NO.',\n",
       " '23',\n",
       " 'RULE',\n",
       " '48)',\n",
       " 'HR42-A-4854',\n",
       " 'Registration',\n",
       " 'No.',\n",
       " 'Name',\n",
       " '&Address',\n",
       " 'ASHWAN',\n",
       " 'of',\n",
       " 'Regd',\n",
       " 'Owner',\n",
       " 'S/o',\n",
       " 'RAM',\n",
       " 'BHAJ',\n",
       " 'BHIGAN,TEH.GNR',\n",
       " 'SONIPAT',\n",
       " 'Previous',\n",
       " 'Regn.',\n",
       " 'No.',\n",
       " 'N/A',\n",
       " 'Previous',\n",
       " 'Owner',\n",
       " 'N/A',\n",
       " 'Chasis',\n",
       " 'No.',\n",
       " 'MA3EED81S00628175',\n",
       " 'Engine',\n",
       " 'No.',\n",
       " 'F10DN4452456',\n",
       " 'Month/',\n",
       " 'Year',\n",
       " 'of',\n",
       " 'Manufacture',\n",
       " '23/01/2008',\n",
       " 'Seating',\n",
       " 'Capacity',\n",
       " '(including',\n",
       " 'driver)',\n",
       " 'Fuel',\n",
       " 'Used',\n",
       " 'Petrol',\n",
       " '14.09.2011',\n",
       " '15:12']"
      ]
     },
     "execution_count": 12,
     "metadata": {},
     "output_type": "execute_result"
    }
   ],
   "source": [
    "dt.remove(dt[0])\n",
    "dt"
   ]
  },
  {
   "cell_type": "code",
   "execution_count": 13,
   "metadata": {},
   "outputs": [],
   "source": [
    "date_format = '%d/%m/%Y'\n",
    "mfg_date_format = '%m/%Y'\n",
    "flag = 0\n",
    "flag2 = 0\n",
    "date_list = []\n",
    "date_obj = \"\"\n",
    "_string_ = \"\" \n",
    "names = []\n",
    "count = 0\n",
    "name = ''"
   ]
  },
  {
   "cell_type": "code",
   "execution_count": 14,
   "metadata": {},
   "outputs": [
    {
     "data": {
      "text/plain": [
       "['(FORM',\n",
       " '23',\n",
       " '48)',\n",
       " 'HR42-A-4854',\n",
       " '&Address',\n",
       " 'ASHWAN',\n",
       " 'of',\n",
       " 'S/o',\n",
       " 'RAM',\n",
       " 'BHAJ',\n",
       " 'BHIGAN,TEH.GNR',\n",
       " 'SONIPAT',\n",
       " 'Regn.',\n",
       " 'N/A',\n",
       " 'N/A',\n",
       " 'MA3EED81S00628175',\n",
       " 'F10DN4452456',\n",
       " 'Month/',\n",
       " 'Year',\n",
       " 'of',\n",
       " '23/01/2008',\n",
       " 'driver)',\n",
       " 'Fuel',\n",
       " 'Used',\n",
       " 'Petrol',\n",
       " '14.09.2011',\n",
       " '15:12']"
      ]
     },
     "execution_count": 14,
     "metadata": {},
     "output_type": "execute_result"
    }
   ],
   "source": [
    "for block in rem_list:\n",
    "    for word in dt:\n",
    "        if block == word:\n",
    "            dt.remove(word)\n",
    "dt"
   ]
  },
  {
   "cell_type": "code",
   "execution_count": 15,
   "metadata": {},
   "outputs": [],
   "source": [
    "for i in dt:\n",
    "    try:\n",
    "        date_obj = datetime.datetime.strptime(i, date_format)\n",
    "        newformat = date_obj.strftime('%Y-%m-%d')\n",
    "        date_list.append(newformat)\n",
    "    except ValueError:\n",
    "        continue"
   ]
  },
  {
   "cell_type": "code",
   "execution_count": 16,
   "metadata": {},
   "outputs": [],
   "source": [
    "for i in dt:\n",
    "    try:\n",
    "        date_obj = datetime.datetime.strptime(i, mfg_date_format)\n",
    "        newformat = date_obj.strftime('%Y-%m')\n",
    "        date_list.append(newformat)\n",
    "    except ValueError:\n",
    "        continue"
   ]
  },
  {
   "cell_type": "code",
   "execution_count": 17,
   "metadata": {},
   "outputs": [],
   "source": [
    "date_list = sorted(date_list)"
   ]
  },
  {
   "cell_type": "code",
   "execution_count": 18,
   "metadata": {},
   "outputs": [],
   "source": [
    "for i in range(2):\n",
    "    date_list.append('')"
   ]
  },
  {
   "cell_type": "code",
   "execution_count": 19,
   "metadata": {},
   "outputs": [],
   "source": [
    "cha_no = ''\n",
    "eng_no = ''\n",
    "reg_no = ''"
   ]
  },
  {
   "cell_type": "code",
   "execution_count": 20,
   "metadata": {},
   "outputs": [
    {
     "data": {
      "text/plain": [
       "'GOVERNMENT OF HARYANA\\nCERTIFICATE OF REGISTRATION\\n(FORM NO. 23 RULE 48)\\nHR42-A-4854\\nRegistration No.\\nName &Address\\nASHWAN\\nof Regd Owner\\nS/o RAM BHAJ\\nBHIGAN,TEH.GNR\\nSONIPAT\\nPrevious Regn. No. N/A\\nPrevious Owner\\nN/A\\nChasis No.\\nMA3EED81S00628175\\nEngine No.\\nF10DN4452456\\nMonth/ Year of Manufacture\\n23/01/2008\\nSeating Capacity\\n(including driver)\\nFuel Used\\nPetrol\\n14.09.2011 15:12\\n'"
      ]
     },
     "execution_count": 20,
     "metadata": {},
     "output_type": "execute_result"
    }
   ],
   "source": [
    "extract_name"
   ]
  },
  {
   "cell_type": "code",
   "execution_count": 21,
   "metadata": {},
   "outputs": [
    {
     "data": {
      "text/plain": [
       "'GOVERNMENT OF HARYANA CERTIFICATE OF REGISTRATION (FORM NO. 23 RULE 48) HR42-A-4854 Registration No. Name &Address ASHWAN of Regd Owner S/o RAM BHAJ BHIGAN,TEH.GNR SONIPAT Previous Regn. No. N/A Previous Owner N/A Chasis No. MA3EED81S00628175 Engine No. F10DN4452456 Month/ Year of Manufacture 23/01/2008 Seating Capacity (including driver) Fuel Used Petrol 14.09.2011 15 12 '"
      ]
     },
     "execution_count": 21,
     "metadata": {},
     "output_type": "execute_result"
    }
   ],
   "source": [
    "extract_name = extract_name.replace('\\n',' ')\n",
    "extract_name = extract_name.replace(':',' ')\n",
    "extract_name"
   ]
  },
  {
   "cell_type": "code",
   "execution_count": 22,
   "metadata": {},
   "outputs": [],
   "source": [
    "def Convert(string):\n",
    "    li = list(string.split(\" \"))\n",
    "    return li"
   ]
  },
  {
   "cell_type": "code",
   "execution_count": 23,
   "metadata": {},
   "outputs": [
    {
     "name": "stdout",
     "output_type": "stream",
     "text": [
      "['GOVERNMENT', 'OF', 'HARYANA', 'CERTIFICATE', 'OF', 'REGISTRATION', '(FORM', 'NO.', '23', 'RULE', '48)', 'HR42-A-4854', 'Registration', 'No.', 'Name', '&Address', 'ASHWAN', 'of', 'Regd', 'Owner', 'S/o', 'RAM', 'BHAJ', 'BHIGAN,TEH.GNR', 'SONIPAT', 'Previous', 'Regn.', 'No.', 'N/A', 'Previous', 'Owner', 'N/A', 'Chasis', 'No.', 'MA3EED81S00628175', 'Engine', 'No.', 'F10DN4452456', 'Month/', 'Year', 'of', 'Manufacture', '23/01/2008', 'Seating', 'Capacity', '(including', 'driver)', 'Fuel', 'Used', 'Petrol', '14.09.2011', '15', '12', '']\n"
     ]
    }
   ],
   "source": [
    "extract_list = Convert(extract_name)\n",
    "#extract_list = extract_list.remove(' ')\n",
    "print(extract_list)"
   ]
  },
  {
   "cell_type": "code",
   "execution_count": 24,
   "metadata": {},
   "outputs": [
    {
     "data": {
      "text/plain": [
       "['GOVERNMENT',\n",
       " 'OF',\n",
       " 'HARYANA',\n",
       " 'CERTIFICATE',\n",
       " 'OF',\n",
       " 'REGISTRATION',\n",
       " '(FORM',\n",
       " 'NO.',\n",
       " '23',\n",
       " 'RULE',\n",
       " '48)',\n",
       " 'HR42-A-4854',\n",
       " 'Registration',\n",
       " 'No.',\n",
       " 'Name',\n",
       " '&Address',\n",
       " 'ASHWAN',\n",
       " 'of',\n",
       " 'Regd',\n",
       " 'Owner',\n",
       " 'S/o',\n",
       " 'RAM',\n",
       " 'BHAJ',\n",
       " 'BHIGAN,TEH.GNR',\n",
       " 'SONIPAT',\n",
       " 'Previous',\n",
       " 'Regn.',\n",
       " 'No.',\n",
       " 'N/A',\n",
       " 'Previous',\n",
       " 'Owner',\n",
       " 'N/A',\n",
       " 'Chasis',\n",
       " 'No.',\n",
       " 'MA3EED81S00628175',\n",
       " 'Engine',\n",
       " 'No.',\n",
       " 'F10DN4452456',\n",
       " 'Month/',\n",
       " 'Year',\n",
       " 'of',\n",
       " 'Manufacture',\n",
       " '23/01/2008',\n",
       " 'Seating',\n",
       " 'Capacity',\n",
       " '(including',\n",
       " 'driver)',\n",
       " 'Fuel',\n",
       " 'Used',\n",
       " 'Petrol',\n",
       " '14.09.2011',\n",
       " '15',\n",
       " '12']"
      ]
     },
     "execution_count": 24,
     "metadata": {},
     "output_type": "execute_result"
    }
   ],
   "source": [
    "for i in extract_list:\n",
    "    if(i==''):\n",
    "        extract_list.remove(i)\n",
    "extract_list"
   ]
  },
  {
   "cell_type": "code",
   "execution_count": 29,
   "metadata": {},
   "outputs": [],
   "source": [
    "for i in extract_list:\n",
    "    if(i == 'Name &Address' or i == '&Address' or i == '&ADDRESS' or i == 'L.M.V.' or i == 'NAME'):\n",
    "        if flag ==0:\n",
    "            flag = 1\n",
    "            continue\n",
    "    if(flag == 1):\n",
    "        name = i\n",
    "        flag = 2"
   ]
  },
  {
   "cell_type": "code",
   "execution_count": 26,
   "metadata": {},
   "outputs": [
    {
     "name": "stdout",
     "output_type": "stream",
     "text": [
      "Regn Number: HR42-A-4854\n",
      "Chassis Number: MA3EED81S00628175\n",
      "Engine Number: F10DN4452456\n",
      "Name: ASHWAN\n",
      "MFD: 2008-01-23\n",
      "Date of Regn: \n"
     ]
    }
   ],
   "source": [
    "for i in dt:\n",
    "    if(len(i)==17 and i.isalnum()):\n",
    "        if i and i[0].isalpha() and i[len(i)-1].isdigit():\n",
    "            cha_no = i\n",
    "            print(\"Chassis Number: {}\" .format(cha_no))\n",
    "    if(len(i)==10 and i.isalnum()):\n",
    "        if i and i[0].isalpha() and i[1].isalpha() and i[len(i)-1].isdigit():\n",
    "            reg_no = i\n",
    "            print(\"Regn Number: {}\" .format(reg_no))\n",
    "    if((len(i)==11 or len(i)==12)):\n",
    "        if i and i[0].isalpha() and i[4]=='-' and i[len(i)-1].isdigit():\n",
    "            reg_no = i\n",
    "            print(\"Regn Number: {}\" .format(reg_no))\n",
    "    if(len(i)==12):\n",
    "        if i and i[0].isalpha() and i[len(i)-1].isdigit():\n",
    "            eng_no = i\n",
    "            print(\"Engine Number: {}\" .format(eng_no))\n",
    "\n",
    "print(\"Name: {}\" .format(name))\n",
    "print(\"MFD: {}\" .format(date_list[0]))\n",
    "print(\"Date of Regn: {}\" .format(date_list[1]))"
   ]
  },
  {
   "cell_type": "code",
   "execution_count": 30,
   "metadata": {},
   "outputs": [],
   "source": [
    "workbook_obj = openpyxl.load_workbook(\"RC_details.xlsx\")\n",
    "book = workbook_obj.active\n",
    "#sheet = book.active\n",
    "rows = ((reg_no,cha_no,eng_no,name,date_list[0],date_list[1]),)\n",
    "for row in rows:\n",
    "    book.append(row)\n",
    "workbook_obj.save(\"C:/Users/BIPIN/Documents/Python Venv/RC2Text/RC_details.xlsx\")"
   ]
  }
 ],
 "metadata": {
  "kernelspec": {
   "display_name": "Python 3",
   "language": "python",
   "name": "python3"
  },
  "language_info": {
   "codemirror_mode": {
    "name": "ipython",
    "version": 3
   },
   "file_extension": ".py",
   "mimetype": "text/x-python",
   "name": "python",
   "nbconvert_exporter": "python",
   "pygments_lexer": "ipython3",
   "version": "3.7.4"
  }
 },
 "nbformat": 4,
 "nbformat_minor": 2
}
